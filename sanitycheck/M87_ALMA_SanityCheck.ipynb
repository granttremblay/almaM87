{
 "cells": [
  {
   "cell_type": "markdown",
   "metadata": {},
   "source": [
    "## Sanity check for Aurora\n",
    "\n",
    "I think I caused confusion (or I was confused) as to the zero point used in the original calculation. So let's do it all over again to ensure that \n",
    "\n",
    "* Everything is consistent with $cz=1307 \\mathrm{km~s}^{-1}$, which is the zero point for M87 that Aurora wants to use consistently throughout the paper\n",
    "\n",
    "* The Gas Mass is calculated using a Luminosity Distance of 16.1 Mpc\n",
    "\n",
    "To ensure everything is consistent, I'll do everything from scratch: "
   ]
  },
  {
   "cell_type": "markdown",
   "metadata": {},
   "source": [
    "### 0. Solving a Mystery\n",
    "\n",
    "The WTF with the redshift was my fault. In my notes, I had written down that I was using a $z=0.004283$, which is the first redshift listed in NED. I had confused myself, and thought that my zero point in the CASA imaging script was indeed $z=0.004283$, _but it wasn't_. My bad! \n",
    "\n",
    "The whole time, I was actually using $z=0.004343$ in the actual CASA script. I didn't notice this because it was in terms of the redshifted CO(2-1) frequency, which I originally assumed was set using the NED redshift. \n",
    "\n",
    "Long story short, I was using 1302 km/s, you're wanting 1307 km/s, so we don't expect a 23 km/s offset between my original fit and this new one. The entire time, I was using 1302 km/s, or a z of 0.00434. \n",
    "\n",
    "Below, everything is recalculated assuming $cz = 1307$ km/s"
   ]
  },
  {
   "cell_type": "code",
   "execution_count": 85,
   "metadata": {
    "collapsed": true
   },
   "outputs": [],
   "source": [
    "from astropy import units as u\n",
    "from astropy import constants as const\n",
    "\n",
    "from astropy.cosmology import FlatLambdaCDM, z_at_value"
   ]
  },
  {
   "cell_type": "code",
   "execution_count": 86,
   "metadata": {
    "collapsed": true
   },
   "outputs": [],
   "source": [
    "cosmo = FlatLambdaCDM(H0=70, Om0=0.3)"
   ]
  },
  {
   "cell_type": "markdown",
   "metadata": {},
   "source": [
    "### 1. Re-image the Measurement set with 5 km/s channel widths and a zero point of 1307 km/s"
   ]
  },
  {
   "cell_type": "code",
   "execution_count": 87,
   "metadata": {
    "collapsed": false
   },
   "outputs": [
    {
     "data": {
      "text/latex": [
       "$299792.46 \\; \\mathrm{\\frac{km}{s}}$"
      ],
      "text/plain": [
       "<Quantity 299792.458 km / s>"
      ]
     },
     "execution_count": 87,
     "metadata": {},
     "output_type": "execute_result"
    }
   ],
   "source": [
    "lightspeed = const.c.to(u.km / u.s)\n",
    "lightspeed"
   ]
  },
  {
   "cell_type": "markdown",
   "metadata": {},
   "source": [
    "The redshift that Aurora wants to consistenly use throughout the paper is  $cz = 1307~\\mathrm{km~s}^{-1}$, i.e. a redshift of: "
   ]
  },
  {
   "cell_type": "code",
   "execution_count": 88,
   "metadata": {
    "collapsed": false
   },
   "outputs": [
    {
     "name": "stdout",
     "output_type": "stream",
     "text": [
      "Use this redshift: z= 0.004359682724239848\n"
     ]
    }
   ],
   "source": [
    "cz = 1307 * u.km / u.s\n",
    "\n",
    "z = cz / lightspeed\n",
    "print(\"Use this redshift: z=\",  z)"
   ]
  },
  {
   "cell_type": "code",
   "execution_count": 89,
   "metadata": {
    "collapsed": false
   },
   "outputs": [
    {
     "data": {
      "text/latex": [
       "$1284.0111 \\; \\mathrm{\\frac{km}{s}}$"
      ],
      "text/plain": [
       "<Quantity 1284.011097614 km / s>"
      ]
     },
     "execution_count": 89,
     "metadata": {},
     "output_type": "execute_result"
    }
   ],
   "source": [
    "lightspeed * 0.004283"
   ]
  },
  {
   "cell_type": "markdown",
   "metadata": {},
   "source": [
    "I therefore need to use this rest frequency when imaging the measurement set"
   ]
  },
  {
   "cell_type": "code",
   "execution_count": 90,
   "metadata": {
    "collapsed": false
   },
   "outputs": [
    {
     "data": {
      "text/latex": [
       "$229.53729 \\; \\mathrm{GHz}$"
      ],
      "text/plain": [
       "<Quantity 229.53729024116677 GHz>"
      ]
     },
     "execution_count": 90,
     "metadata": {},
     "output_type": "execute_result"
    }
   ],
   "source": [
    "co21_restfreq = 230.53800 * u.GHz # This is the v=0 rest frequency of CO(2-1), straight from the Splatalogue\n",
    "co21_redshifted = co21_restfreq / (1+z)\n",
    "co21_redshifted"
   ]
  },
  {
   "cell_type": "markdown",
   "metadata": {},
   "source": [
    "This is the frequency that I put as ```restfreq``` (yes, it's misleading - it's just the zero point for the cube in `velocity` mode) in the ```CLEAN``` step. \n",
    "\n",
    "Here's the imaging setup. We do 5 km/s channels, ```natural``` weighting, PB correction, and a zero point of $cz=1307 \\mathrm{km~s}^{-1}$"
   ]
  },
  {
   "cell_type": "markdown",
   "metadata": {},
   "source": [
    "<img src=\"1.png\">\n",
    "<img src=\"2.png\">\n"
   ]
  },
  {
   "cell_type": "markdown",
   "metadata": {},
   "source": [
    "### 2. Fit a gaussian to the line in this newly imaged cube"
   ]
  },
  {
   "cell_type": "markdown",
   "metadata": {},
   "source": [
    "<img src=\"fitpreview.png\">\n",
    "<img src=\"finalfit.png\">"
   ]
  },
  {
   "cell_type": "markdown",
   "metadata": {},
   "source": [
    "## Final values to use for paper: \n",
    "For consistency, let's go with the above fit to the 5 km/s cube. The results of this fit varies depending on the binning of the cube, how it was imaged, etc., but those variations are consistent within the below errorbars\n",
    "\n",
    "* Line center:  $-129 \\pm 3~\\mathrm{km s}^{-1}$, where the zeropoint is 1307 km/s\n",
    "* Line FWHM: $64 \\pm 7 ~\\mathrm{km s}^{-1}$\n",
    "* Line sigma: $\\sigma = 27 \\pm 3 \\mathrm{km~s}^{-1}$\n",
    "* Emission integral: $0.557 \\pm 0.057~\\mathrm{Jy~km}^{-1}$"
   ]
  },
  {
   "cell_type": "markdown",
   "metadata": {},
   "source": [
    "### Compute the gas mass using a Luminosity Distance of 16.1 Mpc"
   ]
  },
  {
   "cell_type": "code",
   "execution_count": 91,
   "metadata": {
    "collapsed": true
   },
   "outputs": [],
   "source": [
    "def gasmass(gaussian_area, gaussian_area_err, ldist, redshift):\n",
    "    '''\n",
    "    Compute a gas mass for M87. \n",
    "    The gaussian area must be in mJy * km/s (becuase I explicitly convert to Jy * km/s below)\n",
    "    '''\n",
    "    \n",
    "    emission_integral_units_mJy = u.mJy * u.km / u.s\n",
    "    emission_integral_units_Jy = u.Jy * u.km / u.s\n",
    "\n",
    "    xco_unit = u.cm**(-2) * (u.K * u.km * u.s**(-1))**(-1)\n",
    "    \n",
    "    emission_integral = (gaussian_area * emission_integral_units_mJy).to(emission_integral_units_Jy)\n",
    "    emission_integral_err = (gaussian_area_err * emission_integral_units_mJy).to(emission_integral_units_Jy)\n",
    "    \n",
    "    ldist = ldist * u.Mpc\n",
    "    redshift = redshift\n",
    "    xco = 2.0e20 * xco_unit\n",
    "    ratio = 3.2  # CO(2-1) to CO(1-0) flux density ratio \n",
    "    xco_mw = 2.0e20 * xco_unit # CO X-factor. We use the MWs for lack of a more informed choice.\n",
    "    \n",
    "    rawmass = 1.05e4 * (xco / xco_mw) * (1 + redshift)**(-1) * (emission_integral / emission_integral_units_Jy) * (ldist/u.Mpc)**2 * (1.0/ratio)\n",
    "    rawmass_err = 1.05e4 * (xco / xco_mw) * (1 + redshift)**(-1) * (emission_integral_err / emission_integral_units_Jy) * (ldist/u.Mpc)**2 * (1.0/ratio)\n",
    "    \n",
    "    \n",
    "    \n",
    "    finalmass = rawmass * u.M_sun\n",
    "    finalmass_err = rawmass_err * u.M_sun\n",
    "       \n",
    "    return finalmass, finalmass_err, emission_integral"
   ]
  },
  {
   "cell_type": "code",
   "execution_count": 93,
   "metadata": {
    "collapsed": false
   },
   "outputs": [
    {
     "data": {
      "text/plain": [
       "(<Quantity 471690.3951159527 solMass>,\n",
       " <Quantity 48269.93271384076 solMass>,\n",
       " <Quantity 0.557 Jy km / s>)"
      ]
     },
     "execution_count": 93,
     "metadata": {},
     "output_type": "execute_result"
    }
   ],
   "source": [
    "h2mass = gasmass(557, 57, 16.1, 0.0043596)\n",
    "h2mass"
   ]
  },
  {
   "cell_type": "markdown",
   "metadata": {},
   "source": [
    "### So, yeah, this is a factor of two lower than the value we're reporting in the current draft of the paper.\n",
    "\n",
    "$M_{\\mathrm{H_2}} = (4.7 \\pm 0.4) \\times 10^5$ $M_\\odot$\n",
    "\n",
    "This is largely driven by the differing $L_D$ (16.1 vs. 18.4 Mpc, which is what I was using previously), but also by the fact that the best-fit gaussian has a slightly larger area because of velocity  "
   ]
  },
  {
   "cell_type": "markdown",
   "metadata": {},
   "source": [
    "To give you an idea of how much this is driven by the different luminosity difference, see below: This is the emission integral from the fit to the 10km/s cube in the original jupyter notebook I sent you. The emission integral changes by about 50\\%, so, certainly not insignificant. But the errors on the 10 km/s fit are far smaller. I think it's still totally fine to use that one. Ultimately, given the rather large uncertainties involved (X_CO, etc.), H2 gas masses are very order-of-magnitude. "
   ]
  },
  {
   "cell_type": "code",
   "execution_count": 101,
   "metadata": {
    "collapsed": false
   },
   "outputs": [
    {
     "data": {
      "text/plain": [
       "(<Quantity 691869.0355650509 solMass>,\n",
       " <Quantity 99927.2291268984 solMass>,\n",
       " <Quantity 0.8170000000000001 Jy km / s>)"
      ]
     },
     "execution_count": 101,
     "metadata": {},
     "output_type": "execute_result"
    }
   ],
   "source": [
    "orig_gasmass = gasmass(817, 118, 16.1, 0.0043596)\n",
    "orig_gasmass"
   ]
  },
  {
   "cell_type": "code",
   "execution_count": null,
   "metadata": {
    "collapsed": true
   },
   "outputs": [],
   "source": []
  },
  {
   "cell_type": "code",
   "execution_count": null,
   "metadata": {
    "collapsed": true
   },
   "outputs": [],
   "source": []
  }
 ],
 "metadata": {
  "kernelspec": {
   "display_name": "Python 3",
   "language": "python",
   "name": "python3"
  },
  "language_info": {
   "codemirror_mode": {
    "name": "ipython",
    "version": 3
   },
   "file_extension": ".py",
   "mimetype": "text/x-python",
   "name": "python",
   "nbconvert_exporter": "python",
   "pygments_lexer": "ipython3",
   "version": "3.6.0"
  }
 },
 "nbformat": 4,
 "nbformat_minor": 2
}
