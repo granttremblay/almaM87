{
 "cells": [
  {
   "cell_type": "markdown",
   "metadata": {},
   "source": [
    "## Fitting ALMA CO(2-1) spectra in M87\n",
    "\n",
    "I extracted a total spectrum using `casaviewer v4.6`, and saved it as a simple ASCII files. This ASCII file had columns of flux density in Jy, and km/s relative to `restfreq = 229.537` GHz, (i.e., CO(2-1) at ` z= `  ). The extracted spectra and their associated extraction regions are shown here:  "
   ]
  },
  {
   "cell_type": "markdown",
   "metadata": {},
   "source": [
    "<img src=\"region.png\">"
   ]
  },
  {
   "cell_type": "markdown",
   "metadata": {},
   "source": [
    "Let's fit these spectra with gaussians, so as to better characterize the masses associated with each regional component. This solution requires Adam Ginsburg's [PySpecKit](http://pyspeckit.bitbucket.org/html/sphinx/index.html) which requires Python 2.7 (3.x won't work). "
   ]
  },
  {
   "cell_type": "code",
   "execution_count": 1,
   "metadata": {
    "collapsed": false
   },
   "outputs": [
    {
     "ename": "ModuleNotFoundError",
     "evalue": "No module named 'pyspeckit'",
     "output_type": "error",
     "traceback": [
      "\u001b[0;31m---------------------------------------------------------------------------\u001b[0m",
      "\u001b[0;31mModuleNotFoundError\u001b[0m                       Traceback (most recent call last)",
      "\u001b[0;32m<ipython-input-1-5355ebfa0b76>\u001b[0m in \u001b[0;36m<module>\u001b[0;34m()\u001b[0m\n\u001b[1;32m     13\u001b[0m \u001b[0;32mfrom\u001b[0m \u001b[0mastropy\u001b[0m \u001b[0;32mimport\u001b[0m \u001b[0mconstants\u001b[0m \u001b[0;32mas\u001b[0m \u001b[0mconst\u001b[0m\u001b[0;34m\u001b[0m\u001b[0m\n\u001b[1;32m     14\u001b[0m \u001b[0;34m\u001b[0m\u001b[0m\n\u001b[0;32m---> 15\u001b[0;31m \u001b[0;32mimport\u001b[0m \u001b[0mpyspeckit\u001b[0m\u001b[0;34m\u001b[0m\u001b[0m\n\u001b[0m\u001b[1;32m     16\u001b[0m \u001b[0;34m\u001b[0m\u001b[0m\n\u001b[1;32m     17\u001b[0m \u001b[0;32mimport\u001b[0m \u001b[0mmatplotlib\u001b[0m \u001b[0;32mas\u001b[0m \u001b[0mmpl\u001b[0m\u001b[0;34m\u001b[0m\u001b[0m\n",
      "\u001b[0;31mModuleNotFoundError\u001b[0m: No module named 'pyspeckit'"
     ]
    }
   ],
   "source": [
    "import sys\n",
    "import os\n",
    "import glob\n",
    "\n",
    "import numpy as np\n",
    "\n",
    "from astropy.io import ascii\n",
    "from astropy.table import QTable\n",
    "\n",
    "from astropy.cosmology import FlatLambdaCDM\n",
    "\n",
    "import astropy.units as u\n",
    "from astropy import constants as const\n",
    "\n",
    "import pyspeckit\n",
    "\n",
    "import matplotlib as mpl\n",
    "import matplotlib.pyplot as plt\n",
    "import matplotlib.style as style\n",
    "%matplotlib inline"
   ]
  },
  {
   "cell_type": "markdown",
   "metadata": {},
   "source": [
    "Make some units and a cosmology:"
   ]
  },
  {
   "cell_type": "code",
   "execution_count": 2,
   "metadata": {
    "collapsed": true
   },
   "outputs": [],
   "source": [
    "emission_integral_units_mJy = u.mJy * u.km / u.s\n",
    "emission_integral_units_Jy = u.Jy * u.km / u.s\n",
    "\n",
    "xco_unit = u.cm**(-2) * (u.K * u.km * u.s**(-1))**(-1)\n",
    "\n",
    "cosmo = FlatLambdaCDM(H0=70, Om0=0.3)"
   ]
  },
  {
   "cell_type": "markdown",
   "metadata": {},
   "source": [
    "### The redshift used in the creation of the cubes was:"
   ]
  },
  {
   "cell_type": "code",
   "execution_count": 71,
   "metadata": {
    "collapsed": false
   },
   "outputs": [
    {
     "data": {
      "text/latex": [
       "$0.0043420174 \\; \\mathrm{}$"
      ],
      "text/plain": [
       "<Quantity 0.004342017368069495>"
      ]
     },
     "execution_count": 71,
     "metadata": {},
     "output_type": "execute_result"
    }
   ],
   "source": [
    "restfreq = 229.537 * u.GHz\n",
    "co21rest = 230.538 * u.GHz\n",
    "\n",
    "z = 1 - (restfreq / co21rest)\n",
    "z"
   ]
  },
  {
   "cell_type": "code",
   "execution_count": 72,
   "metadata": {
    "collapsed": false
   },
   "outputs": [
    {
     "data": {
      "text/latex": [
       "$1301.7041 \\; \\mathrm{\\frac{km}{s}}$"
      ],
      "text/plain": [
       "<Quantity 1301.7040594522446 km / s>"
      ]
     },
     "execution_count": 72,
     "metadata": {},
     "output_type": "execute_result"
    }
   ],
   "source": [
    "cz = const.c.to(u.km / u.s) * z\n",
    "cz"
   ]
  },
  {
   "cell_type": "markdown",
   "metadata": {},
   "source": [
    "### The redshift used in Aurora's paper draft:"
   ]
  },
  {
   "cell_type": "code",
   "execution_count": 73,
   "metadata": {
    "collapsed": false
   },
   "outputs": [
    {
     "data": {
      "text/latex": [
       "$0.0043596827 \\; \\mathrm{}$"
      ],
      "text/plain": [
       "<Quantity 0.004359682724239848>"
      ]
     },
     "execution_count": 73,
     "metadata": {},
     "output_type": "execute_result"
    }
   ],
   "source": [
    "z_draft = 1307 * (u.km / u.s) / const.c.to(u.km / u.s)\n",
    "z_draft"
   ]
  },
  {
   "cell_type": "markdown",
   "metadata": {},
   "source": [
    "To conform to this, make the zero point: "
   ]
  },
  {
   "cell_type": "code",
   "execution_count": 74,
   "metadata": {
    "collapsed": false
   },
   "outputs": [
    {
     "data": {
      "text/latex": [
       "$229.53729 \\; \\mathrm{GHz}$"
      ],
      "text/plain": [
       "<Quantity 229.53729024116677 GHz>"
      ]
     },
     "execution_count": 74,
     "metadata": {},
     "output_type": "execute_result"
    }
   ],
   "source": [
    "rest_aurora = co21rest / (1 + z_draft)\n",
    "rest_aurora"
   ]
  },
  {
   "cell_type": "markdown",
   "metadata": {},
   "source": [
    "(note that the NED redshift for M87 is 0.004283)"
   ]
  },
  {
   "cell_type": "markdown",
   "metadata": {},
   "source": [
    "## Make your plots pretty"
   ]
  },
  {
   "cell_type": "markdown",
   "metadata": {},
   "source": [
    "This is best done globally, so that both my custom plotter \\& Adam's PySpecKit plotter() output consistent plot styles. "
   ]
  },
  {
   "cell_type": "code",
   "execution_count": 75,
   "metadata": {
    "collapsed": true
   },
   "outputs": [],
   "source": [
    "plt.rcParams.update({'font.size'     : 16,\n",
    "                    'axes.labelsize' : 16,\n",
    "                    'legend.fontsize': 16,\n",
    "                    'xtick.labelsize': 18,\n",
    "                    'ytick.labelsize': 18,\n",
    "                    'axes.linewidth' :  2 })\n",
    "\n",
    "plt.rc('font', family='Helvetica')"
   ]
  },
  {
   "cell_type": "markdown",
   "metadata": {},
   "source": [
    "## Functions"
   ]
  },
  {
   "cell_type": "markdown",
   "metadata": {},
   "source": [
    "Make some simple i/o functions for these ascii files: "
   ]
  },
  {
   "cell_type": "code",
   "execution_count": 76,
   "metadata": {
    "collapsed": true
   },
   "outputs": [],
   "source": [
    "def makeSpectrum(file):\n",
    "    \n",
    "    # Read the raw ASCII spectrum into an Astropy TABLE object\n",
    "    rawdata = ascii.read(file)\n",
    "    \n",
    "    # Give the columns meaningful names\n",
    "    if 'col1' in rawdata.columns:\n",
    "        rawdata.rename_column('col1','Velocity')\n",
    "    if 'col2' in rawdata.columns:\n",
    "        rawdata.rename_column('col2', 'FluxDensity')\n",
    "        \n",
    "    # Give the new columns proper units. \n",
    "    # We'll have to strip them later, because PySpecKit doesn't \n",
    "    # like \"quantity\" objects, but it's useful to have the functionality\n",
    "    # anyway\n",
    "    Velocity = rawdata['Velocity'] * (u.km / u.s)\n",
    "    FluxDensityJy = rawdata['FluxDensity'] * u.Jy\n",
    "\n",
    "    # Put the flux into mJy \n",
    "    FluxDensity = FluxDensityJy.to(u.mJy)\n",
    "    \n",
    "    # Manually write the errors. The RMS of the 10 km/s cube\n",
    "    # is 0.35 mJy / 10 km/s channel. This is the error on the flux.\n",
    "    # The velocity channel width is +/- 5 km/s, e.g. 10 km/s width. \n",
    "    VelErr = ((np.zeros(len(Velocity))) + 5.0) * (u.km / u.s)\n",
    "    FluxErr = ((np.zeros(len(FluxDensity))) + 0.35) * u.mJy\n",
    "\n",
    "    # Construct the main Astropy TABLE with Units\n",
    "    data = QTable([Velocity, FluxDensity, VelErr, FluxErr], names=(\"Velocity\", \"Flux Density\", \"Velocity Error\", \"Flux Error\"))\n",
    "    \n",
    "    # Also constuct unit-free versions for passing to PySpecKit\n",
    "    \n",
    "    \n",
    "    flux = FluxDensity.value\n",
    "    vel = Velocity.value\n",
    "    \n",
    "    rms = FluxErr.value\n",
    "    width = VelErr.value\n",
    "    \n",
    "    return data, vel, flux, width, rms"
   ]
  },
  {
   "cell_type": "code",
   "execution_count": 77,
   "metadata": {
    "collapsed": true
   },
   "outputs": [],
   "source": [
    "def specfit(vel, flux, rms, guesses=None, figname=\"fig.pdf\"):\n",
    "    \n",
    "    sp = pyspeckit.Spectrum(data=flux, error=rms, xarr=vel, xarrkwargs={'unit':'km/s'}, unit='mJy')\n",
    "    \n",
    "    # If the user was too lazy to supply a guess, begrudgingly fit a single gaussian \n",
    "    # while attempting to pick an intelligent starting point\n",
    "    if guesses is None:\n",
    "        amplitude_guess = flux.max()\n",
    "        center_guess = (flux * vel).sum() / flux.sum() # Try to guess the Gaussian center\n",
    "        width_guess = flux.sum() / amplitude_guess / np.sqrt(2*np.pi)\n",
    "        \n",
    "        guesses = [amplitude_guess, center_guess, width_guess]\n",
    "        \n",
    "    \n",
    "    sp.specfit.multifit(guesses=guesses, negamp=False, renormalize='auto')\n",
    "    \n",
    "    # Guesses should take the format of: \n",
    "    # guesses = [amplitude_guess, center_guess, width_guess]\n",
    "    # Multiple components are strung along in one array, e.g. \n",
    "    # guesses = [5.,100.,100.,            where this is [amp, center, width] of Gaussian 1\n",
    "    #           15., -20., 60.,           ... guassian 2\n",
    "    #           2.5, -200., 20.]          ... gaussian 3 (and so on...)\n",
    "    \n",
    "    sp.plotter(errstyle='fill', xmin=-500, xmax=500, ymin=-5, ymax=20)\n",
    "    sp.specfit.plot_components(add_baseline=False,component_yoffset=-0.2)\n",
    "    sp.specfit.plotresiduals(axis=sp.plotter.axis,clear=False,yoffset=0,label=False)\n",
    "    sp.specfit.plot_fit(annotate=True, lw=2.0)\n",
    "    sp.specfit.plotresiduals(axis=sp.plotter.axis,clear=False,yoffset=0.0,label=False, color='gray')\n",
    "    \n",
    "    #sp.specfit.annotate(chi2='optimal')\n",
    "    \n",
    "    # Note that this isn't the 'real' chi2! It's something Adam made up! \n",
    "    # It uses the fitted model to find all pixels that are above the noise in the spectrum\n",
    "    # then computes chi^2/n using only those pixels\n",
    "    \n",
    "    #chi2 = sp.specfit.optimal_chi2(reduced=True)\n",
    "    #print(chi2)\n",
    "    \n",
    "    components = sp.specfit.get_components()\n",
    "    #print(components)\n",
    "    \n",
    "    # The integral will be in units of mJy * km/s\n",
    "    integral, error = sp.specfit.integral(direct=True, return_error=True)\n",
    "    \n",
    "    mass, emission_integral = gasmass(integral, error)\n",
    "    \n",
    "    sp.plotter.savefig(figname)\n",
    "    print(\"Saved this figure as %s\" % figname)\n",
    "    \n",
    "    return components, mass, emission_integral\n",
    "    \n",
    "    #emcee_ensemble = sp.specfit.get_emcee()\n",
    "    #p0 = emcee_ensemble.p0 * (np.random.randn(*emcee_ensemble.p0.shape) / 10. + 1.0)\n",
    "    #pos,logprob,state = emcee_ensemble.run_mcmc(p0,100)\n",
    "    \n",
    "    #sp.specfit.get_components()\n",
    "    \n"
   ]
  },
  {
   "cell_type": "code",
   "execution_count": 78,
   "metadata": {
    "collapsed": false
   },
   "outputs": [],
   "source": [
    "def gasmass(gaussian_area, gaussian_area_err):\n",
    "    '''\n",
    "    Compute a gas mass for M87. \n",
    "    The gaussian area must be in mJy * km/s (becuase I explicitly convert to Jy * km/s below)\n",
    "    '''\n",
    "    \n",
    "    emission_integral = (gaussian_area * emission_integral_units_mJy).to(emission_integral_units_Jy)\n",
    "    emission_integral_err = (gaussian_area_err * emission_integral_units_mJy).to(emission_integral_units_Jy)\n",
    "    \n",
    "    redshift = 0.0043596827 # Redshift of M87 used in Aurora's paper\n",
    "    xco = 2.0e20 * xco_unit\n",
    "    ratio = 3.2  # CO(2-1) to CO(1-0) flux density ratio\n",
    "    \n",
    "    xco_mw = 2.0e20 * xco_unit\n",
    "    ldist = cosmo.luminosity_distance(redshift).to(u.Mpc)\n",
    "    print(ldist)\n",
    "    \n",
    "    rawmass = 1.05e4 * (xco / xco_mw) * (1 + redshift)**(-1) * (emission_integral / emission_integral_units_Jy) * (ldist/u.Mpc)**2 * (1.0/ratio)\n",
    "    \n",
    "    finalmass = rawmass * u.M_sun\n",
    "       \n",
    "    return finalmass, emission_integral"
   ]
  },
  {
   "cell_type": "code",
   "execution_count": 79,
   "metadata": {
    "collapsed": true
   },
   "outputs": [],
   "source": [
    "def plotter(velocity, flux, width=None, rms=None, title=\"Remember to Set a Title!\"):\n",
    "    \n",
    "    fig, ax = plt.subplots(1)\n",
    "    \n",
    "    if width is None and rms is None:\n",
    "        component_number = np.shape(flux)[0]\n",
    "        for i in range(component_number):\n",
    "            ax.plot(velocity, flux[i], lw=2.0, color='blue')\n",
    "    else: \n",
    "        ax.plot(velocity, flux, lw=0.5, color='black')\n",
    "        ax.fill_between(velocity, flux+rms, flux-rms, facecolor='blue', alpha=0.5)\n",
    "        #ax.fill_betweenx(flux, velocity+width, velocity-width, facecolor='blue', alpha=0.5)\n",
    "        \n",
    "    ax.set_xlim([-500,500])\n",
    "    ax.set_ylim([-5, 20])\n",
    "    \n",
    "    ax.set_title(title)\n",
    "    ax.set_xlabel('Velocity (km / s)')\n",
    "    ax.set_ylabel('Flux density (mJy)')\n",
    "    \n",
    "    #plt.figure()\n",
    "    #plt.errorbar(velocity, flux, xerr=width, yerr=rms, \n",
    "    #         marker='o', markersize=0.5, ls='-', color='black', elinewidth=2, capsize=0)\n",
    "\n",
    "    #plt.title(\"CO(2-1) Line Profile\")\n",
    "\n"
   ]
  },
  {
   "cell_type": "markdown",
   "metadata": {},
   "source": [
    "### Fitting the 'Total' Region"
   ]
  },
  {
   "cell_type": "code",
   "execution_count": 80,
   "metadata": {
    "collapsed": false
   },
   "outputs": [
    {
     "data": {
      "text/plain": [
       "['full_m87_aperture.txt']"
      ]
     },
     "execution_count": 80,
     "metadata": {},
     "output_type": "execute_result"
    }
   ],
   "source": [
    "glob.glob('*.txt')"
   ]
  },
  {
   "cell_type": "code",
   "execution_count": 81,
   "metadata": {
    "collapsed": false
   },
   "outputs": [],
   "source": [
    "glob.glob('*.txt')\n",
    "\n",
    "totalfile = 'full_m87_aperture.txt'\n",
    "totaldata, totalvel, totalflux, totalwidth, totalrms = makeSpectrum(totalfile)"
   ]
  },
  {
   "cell_type": "code",
   "execution_count": 82,
   "metadata": {
    "collapsed": false
   },
   "outputs": [
    {
     "name": "stdout",
     "output_type": "stream",
     "text": [
      "18.7344105248 Mpc\n",
      "Saved this figure as total_region.pdf\n"
     ]
    },
    {
     "data": {
      "image/png": "[encoded data removed]",
      "text/plain": [
       "<matplotlib.figure.Figure at 0x11b8c7e10>"
      ]
     },
     "metadata": {},
     "output_type": "display_data"
    }
   ],
   "source": [
    "# Guesses go like:  Amplitude, Center, Width\n",
    "    \n",
    "\n",
    "totalguesses = [6., -130., 70.]\n",
    "\n",
    "total_fit, total_mass, emission_integral = specfit(totalvel, totalflux, totalrms, totalguesses, \"total_region.pdf\")"
   ]
  },
  {
   "cell_type": "markdown",
   "metadata": {},
   "source": [
    "For an emission integral of"
   ]
  },
  {
   "cell_type": "code",
   "execution_count": 83,
   "metadata": {
    "collapsed": false
   },
   "outputs": [
    {
     "data": {
      "text/latex": [
       "$0.74166589 \\; \\mathrm{\\frac{Jy\\,km}{s}}$"
      ],
      "text/plain": [
       "<Quantity 0.741665888428566 Jy km / s>"
      ]
     },
     "execution_count": 83,
     "metadata": {},
     "output_type": "execute_result"
    }
   ],
   "source": [
    "emission_integral"
   ]
  },
  {
   "cell_type": "markdown",
   "metadata": {},
   "source": [
    "The total mass (assuming a MW X$_{\\mathrm{CO}}$) is: "
   ]
  },
  {
   "cell_type": "code",
   "execution_count": 84,
   "metadata": {
    "collapsed": false
   },
   "outputs": [
    {
     "data": {
      "text/latex": [
       "$850429.7 \\; \\mathrm{M_{\\odot}}$"
      ],
      "text/plain": [
       "<Quantity 850429.7024072045 solMass>"
      ]
     },
     "execution_count": 84,
     "metadata": {},
     "output_type": "execute_result"
    }
   ],
   "source": [
    "total_mass"
   ]
  },
  {
   "cell_type": "markdown",
   "metadata": {},
   "source": [
    "(This is consistent within errors with the mass we report in the paper - see my other notebook). The reason for the variation is that this particular gaussian fit is done to data with 10kms bins, which was not what we used in the other gas mass calculation notebook. Completely fine. (again, we're within errors). "
   ]
  }
 ],
 "metadata": {
  "anaconda-cloud": {},
  "kernelspec": {
   "display_name": "Python 3",
   "language": "python",
   "name": "python3"
  },
  "language_info": {
   "codemirror_mode": {
    "name": "ipython",
    "version": 3
   },
   "file_extension": ".py",
   "mimetype": "text/x-python",
   "name": "python",
   "nbconvert_exporter": "python",
   "pygments_lexer": "ipython3",
   "version": "3.6.0"
  }
 },
 "nbformat": 4,
 "nbformat_minor": 0
}
