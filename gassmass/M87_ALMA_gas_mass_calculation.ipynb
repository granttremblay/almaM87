{
 "cells": [
  {
   "cell_type": "markdown",
   "metadata": {},
   "source": [
    "# Measuring the total cold gas mass in Aurora's M87 observation\n",
    "Grant Tremblay (grant.tremblay@yale.edu)"
   ]
  },
  {
   "cell_type": "markdown",
   "metadata": {},
   "source": [
    "## tl,dr\n",
    "I get $M_{\\mathrm{H}_2} = (9.04 \\pm 1.3) \\times 10^5~M_\\odot$ assuming a Milky Way $X_\\mathrm{CO} = $"
   ]
  },
  {
   "cell_type": "markdown",
   "metadata": {},
   "source": [
    "## The Details"
   ]
  },
  {
   "cell_type": "markdown",
   "metadata": {},
   "source": [
    "Following (e.g.) Bollato+13, the total mass of H$_2$ scales with the CO(1-0) emission integral $S_\\mathrm{CO}\\Delta V$ as:\n",
    "\n",
    "$M_\\mathrm{mol}  = \\frac{1.05 \\times 10^4}{3.2} ~ \\left(\\frac{X_{\\mathrm{CO}}}{2\\times 10^{20}~\\frac{\\mathrm{cm}^{-2}}{\\mathrm{K~km~s}^{-1}}}\\right) \\left( \\frac{1}{1+z}\\right) \\left(\\frac{S_{\\mathrm{CO}}\\Delta v}{\\mathrm{Jy~km~s}^{-1}}\\right) \\left(\\frac{D_\\mathrm{L}}{\\mathrm{Mpc}}\\right)^2 M_\\odot$ \n",
    "\n",
    "We'll assume a Milky Way CO-to-H2 conversion factor\n",
    "\n",
    "$X_{\\mathrm{CO}} = 2 \\times 10^{20}~\\mathrm{cm}^{-2} \\left(\\mathrm{K~km~s}^{-1}\\right)^{-1}$\n",
    "\n",
    "and a CO(2-1) to CO(1-0) flux density ratio of $3.2$. Note that these assumptions are metallicity dependent and have important consequences. For a discussion of this relevant to cool core BCGs, see e.g. McNamara+14. \n",
    "\n",
    "### Step 1: In CASA v4.5, I fit a Gaussian to the total CO(2-1) line profile\n",
    "\n",
    "This can be done in ``casaviewer`` interactively. I fit an elliptical region that covers all $>3\\sigma$ CO(2-1) emission found in the ALMA beam-corrected map. I then fit a Gaussian to the line extracted from this region. I won't go into how to do that, as it's pretty straightforward and probably evident in the following screenshots. \n",
    "\n",
    "<img src=\"1.png\">\n",
    "<img src=\"2.png\">\n",
    "<img src=\"3.png\">"
   ]
  },
  {
   "cell_type": "markdown",
   "metadata": {},
   "source": [
    "### Step 2: Set some basics"
   ]
  },
  {
   "cell_type": "code",
   "execution_count": 1,
   "metadata": {
    "collapsed": true
   },
   "outputs": [],
   "source": [
    "import astropy.units as u\n",
    "import astropy.constants as const"
   ]
  },
  {
   "cell_type": "markdown",
   "metadata": {},
   "source": [
    "Set cosmology..."
   ]
  },
  {
   "cell_type": "code",
   "execution_count": 2,
   "metadata": {
    "collapsed": false
   },
   "outputs": [],
   "source": [
    "from astropy.cosmology import FlatLambdaCDM\n",
    "cosmo = FlatLambdaCDM(H0=70, Om0=0.3)"
   ]
  },
  {
   "cell_type": "markdown",
   "metadata": {},
   "source": [
    "Make some units..."
   ]
  },
  {
   "cell_type": "code",
   "execution_count": 3,
   "metadata": {
    "collapsed": false
   },
   "outputs": [],
   "source": [
    "emission_integral_units_mJy = u.mJy * u.km / u.s\n",
    "emission_integral_units_Jy = u.Jy * u.km / u.s\n",
    "\n",
    "xco_unit = u.cm**(-2) * (u.K * u.km * u.s**(-1))**(-1)"
   ]
  },
  {
   "cell_type": "markdown",
   "metadata": {},
   "source": [
    "### Step 3: Set parameters for M87"
   ]
  },
  {
   "cell_type": "code",
   "execution_count": 4,
   "metadata": {
    "collapsed": false
   },
   "outputs": [],
   "source": [
    "##### PUT THE REDSHIFT OF YOUR GALAXY HERE ######\n",
    "\n",
    "redshift = 0.004283 # Redshift of M87\n",
    "\n",
    "\n",
    "##### PUT YOUR GAUSSIAN AREA IN mJY * km/s HERE #####\n",
    "\n",
    "gaussian_area = 817.015\n",
    "gaussian_area_err = 118.184\n",
    "\n",
    "\n",
    "##### PUT YOUR CONVERSION FACTOR & RATIO HERE ######\n",
    "\n",
    "xco = 2.0e20 * xco_unit\n",
    "ratio = 3.2  # CO(2-1) to CO(1-0) flux density ratio\n",
    "\n",
    "######################################################\n",
    "\n",
    "\n",
    "\n",
    "\n",
    "emission_integral = (gaussian_area * emission_integral_units_mJy).to(emission_integral_units_Jy)\n",
    "emission_integral_err = (gaussian_area_err * emission_integral_units_mJy).to(emission_integral_units_Jy)\n"
   ]
  },
  {
   "cell_type": "markdown",
   "metadata": {},
   "source": [
    "### Step 4: Calculate the gas mass..."
   ]
  },
  {
   "cell_type": "code",
   "execution_count": 5,
   "metadata": {
    "collapsed": false
   },
   "outputs": [],
   "source": [
    "def gasmass(redshift,xco,ratio,emission_integral):\n",
    "    xco_mw = 2.0e20 * xco_unit\n",
    "    ldist = cosmo.luminosity_distance(redshift).to(u.Mpc)\n",
    "    \n",
    "    rawmass = 1.05e4 * (xco / xco_mw) * (1 + redshift)**(-1) * (emission_integral / emission_integral_units_Jy) * (ldist/u.Mpc)**2 * (1.0/ratio)\n",
    "    \n",
    "    finalmass = rawmass * u.M_sun\n",
    "    \n",
    "    \n",
    "    return finalmass"
   ]
  },
  {
   "cell_type": "code",
   "execution_count": 6,
   "metadata": {
    "collapsed": false
   },
   "outputs": [],
   "source": [
    "mass = gasmass(redshift=redshift,xco=xco,ratio=ratio,emission_integral=emission_integral)\n",
    "mass_err = gasmass(redshift=redshift,xco=xco,ratio=ratio,emission_integral=emission_integral_err)"
   ]
  },
  {
   "cell_type": "markdown",
   "metadata": {},
   "source": [
    "The total cold gas mass is: "
   ]
  },
  {
   "cell_type": "code",
   "execution_count": 7,
   "metadata": {
    "collapsed": false
   },
   "outputs": [
    {
     "data": {
      "text/latex": [
       "$904124.85 \\; \\mathrm{M_{\\odot}}$"
      ],
      "text/plain": [
       "<Quantity 904124.8466750141 solMass>"
      ]
     },
     "execution_count": 7,
     "metadata": {},
     "output_type": "execute_result"
    }
   ],
   "source": [
    "mass"
   ]
  },
  {
   "cell_type": "markdown",
   "metadata": {},
   "source": [
    "$\\pm$"
   ]
  },
  {
   "cell_type": "code",
   "execution_count": 8,
   "metadata": {
    "collapsed": false
   },
   "outputs": [
    {
     "data": {
      "text/latex": [
       "$130784.74 \\; \\mathrm{M_{\\odot}}$"
      ],
      "text/plain": [
       "<Quantity 130784.73575080001 solMass>"
      ]
     },
     "execution_count": 8,
     "metadata": {},
     "output_type": "execute_result"
    }
   ],
   "source": [
    "mass_err"
   ]
  },
  {
   "cell_type": "markdown",
   "metadata": {},
   "source": [
    "So the total mass is\n",
    "\n",
    "$(9.04 \\pm 1.3) \\times 10^5~M_\\odot$"
   ]
  }
 ],
 "metadata": {
  "anaconda-cloud": {},
  "kernelspec": {
   "display_name": "Python [Root]",
   "language": "python",
   "name": "Python [Root]"
  },
  "language_info": {
   "codemirror_mode": {
    "name": "ipython",
    "version": 3
   },
   "file_extension": ".py",
   "mimetype": "text/x-python",
   "name": "python",
   "nbconvert_exporter": "python",
   "pygments_lexer": "ipython3",
   "version": "3.5.1"
  }
 },
 "nbformat": 4,
 "nbformat_minor": 0
}
