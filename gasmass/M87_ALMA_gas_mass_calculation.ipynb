{
 "cells": [
  {
   "cell_type": "markdown",
   "metadata": {},
   "source": [
    "# Measuring the total cold gas mass in Aurora's M87 observation\n",
    "Grant Tremblay (grant.tremblay@yale.edu)"
   ]
  },
  {
   "cell_type": "markdown",
   "metadata": {},
   "source": [
    "## tl,dr\n",
    "I get $M_{\\mathrm{H}_2} = (9.04 \\pm 1.3) \\times 10^5~M_\\odot$ assuming a Milky Way $X_\\mathrm{CO}$ and a CO(2-1) to CO(1-0) flux density ratio of 3.2"
   ]
  },
  {
   "cell_type": "markdown",
   "metadata": {},
   "source": [
    "## The Details"
   ]
  },
  {
   "cell_type": "markdown",
   "metadata": {},
   "source": [
    "Following (e.g.) Bollato+13, the total mass of H$_2$ scales with the CO(1-0) emission integral $S_\\mathrm{CO}\\Delta V$ as:\n",
    "\n",
    "$M_\\mathrm{mol}  = \\frac{1.05 \\times 10^4}{3.2} ~ \\left(\\frac{X_{\\mathrm{CO}}}{2\\times 10^{20}~\\frac{\\mathrm{cm}^{-2}}{\\mathrm{K~km~s}^{-1}}}\\right) \\left( \\frac{1}{1+z}\\right) \\left(\\frac{S_{\\mathrm{CO}}\\Delta v}{\\mathrm{Jy~km~s}^{-1}}\\right) \\left(\\frac{D_\\mathrm{L}}{\\mathrm{Mpc}}\\right)^2 M_\\odot$ \n",
    "\n",
    "We'll assume a Milky Way CO-to-H2 conversion factor\n",
    "\n",
    "$X_{\\mathrm{CO}} = 2 \\times 10^{20}~\\mathrm{cm}^{-2} \\left(\\mathrm{K~km~s}^{-1}\\right)^{-1}$\n",
    "\n",
    "and a CO(2-1) to CO(1-0) flux density ratio of $3.2$. Note that these assumptions are metallicity dependent and have important consequences. For a discussion of this relevant to cool core BCGs, see e.g. McNamara+14. \n",
    "\n",
    "### Step 1: In CASA v4.5, I fit a Gaussian to the total CO(2-1) line profile\n",
    "\n",
    "This can be done in ``casaviewer`` interactively. I fit an elliptical region that covers all $>3\\sigma$ CO(2-1) emission found in the ALMA beam-corrected map. I then fit a Gaussian to the line extracted from this region. I won't go into how to do that, as it's pretty straightforward and probably evident in the following screenshots. \n",
    "\n",
    "<img src=\"1.png\">\n",
    "<img src=\"2.png\">\n",
    "<img src=\"3.png\">"
   ]
  },
  {
   "cell_type": "markdown",
   "metadata": {},
   "source": [
    "### Step 2: Set some basics"
   ]
  },
  {
   "cell_type": "code",
   "execution_count": 16,
   "metadata": {
    "collapsed": true
   },
   "outputs": [],
   "source": [
    "import astropy.units as u\n",
    "import astropy.constants as const\n",
    "\n",
    "import numpy as np"
   ]
  },
  {
   "cell_type": "markdown",
   "metadata": {},
   "source": [
    "Set cosmology..."
   ]
  },
  {
   "cell_type": "code",
   "execution_count": 17,
   "metadata": {
    "collapsed": false
   },
   "outputs": [],
   "source": [
    "from astropy.cosmology import FlatLambdaCDM\n",
    "cosmo = FlatLambdaCDM(H0=70, Om0=0.3)"
   ]
  },
  {
   "cell_type": "markdown",
   "metadata": {},
   "source": [
    "Make some units..."
   ]
  },
  {
   "cell_type": "code",
   "execution_count": 18,
   "metadata": {
    "collapsed": false
   },
   "outputs": [],
   "source": [
    "emission_integral_units_mJy = u.mJy * u.km / u.s\n",
    "emission_integral_units_Jy = u.Jy * u.km / u.s\n",
    "\n",
    "xco_unit = u.cm**(-2) * (u.K * u.km * u.s**(-1))**(-1)"
   ]
  },
  {
   "cell_type": "markdown",
   "metadata": {},
   "source": [
    "### Step 3: Set parameters for M87"
   ]
  },
  {
   "cell_type": "code",
   "execution_count": 19,
   "metadata": {
    "collapsed": false
   },
   "outputs": [],
   "source": [
    "redshift = 0.004283 # Redshift of M87\n",
    "\n",
    "##### PUT YOUR GAUSSIAN AREA IN mJY * km/s HERE #####\n",
    "\n",
    "gaussian_area = 817.015\n",
    "gaussian_area_err = 118.184\n",
    "\n",
    "##### PUT YOUR CONVERSION FACTOR & RATIO HERE ######\n",
    "\n",
    "xco = 2.0e20 * xco_unit\n",
    "ratio = 3.2  # CO(2-1) to CO(1-0) flux density ratio\n",
    "\n",
    "######################################################\n",
    "\n",
    "\n",
    "emission_integral = (gaussian_area * emission_integral_units_mJy).to(emission_integral_units_Jy)\n",
    "emission_integral_err = (gaussian_area_err * emission_integral_units_mJy).to(emission_integral_units_Jy)\n"
   ]
  },
  {
   "cell_type": "markdown",
   "metadata": {},
   "source": [
    "### Step 4: Calculate the gas mass..."
   ]
  },
  {
   "cell_type": "code",
   "execution_count": 24,
   "metadata": {
    "collapsed": false
   },
   "outputs": [],
   "source": [
    "def gasmass(redshift,xco,ratio,emission_integral):\n",
    "    xco_mw = 2.0e20 * xco_unit\n",
    "    ldist = cosmo.luminosity_distance(redshift).to(u.Mpc)\n",
    "    \n",
    "    rawmass = 1.05e4 * (xco / xco_mw) * (1 + redshift)**(-1) * (emission_integral / emission_integral_units_Jy) * (ldist/u.Mpc)**2 * (1.0/ratio)\n",
    "    \n",
    "    finalmass = rawmass * u.M_sun\n",
    "    \n",
    "    print(ldist)\n",
    "    \n",
    "    \n",
    "    return finalmass"
   ]
  },
  {
   "cell_type": "code",
   "execution_count": 25,
   "metadata": {
    "collapsed": false
   },
   "outputs": [
    {
     "name": "stdout",
     "output_type": "stream",
     "text": [
      "18.403803281981897 Mpc\n",
      "18.403803281981897 Mpc\n"
     ]
    }
   ],
   "source": [
    "mass = gasmass(redshift=redshift,xco=xco,ratio=ratio,emission_integral=emission_integral)\n",
    "mass_err = gasmass(redshift=redshift,xco=xco,ratio=ratio,emission_integral=emission_integral_err)"
   ]
  },
  {
   "cell_type": "markdown",
   "metadata": {},
   "source": [
    "The total cold gas mass is: "
   ]
  },
  {
   "cell_type": "code",
   "execution_count": 26,
   "metadata": {
    "collapsed": false
   },
   "outputs": [
    {
     "data": {
      "text/latex": [
       "$904124.85 \\; \\mathrm{M_{\\odot}}$"
      ],
      "text/plain": [
       "<Quantity 904124.8466750141 solMass>"
      ]
     },
     "execution_count": 26,
     "metadata": {},
     "output_type": "execute_result"
    }
   ],
   "source": [
    "mass"
   ]
  },
  {
   "cell_type": "markdown",
   "metadata": {},
   "source": [
    "$\\pm$"
   ]
  },
  {
   "cell_type": "code",
   "execution_count": 27,
   "metadata": {
    "collapsed": false
   },
   "outputs": [
    {
     "data": {
      "text/latex": [
       "$130784.74 \\; \\mathrm{M_{\\odot}}$"
      ],
      "text/plain": [
       "<Quantity 130784.73575080001 solMass>"
      ]
     },
     "execution_count": 27,
     "metadata": {},
     "output_type": "execute_result"
    }
   ],
   "source": [
    "mass_err"
   ]
  },
  {
   "cell_type": "markdown",
   "metadata": {},
   "source": [
    "So the total mass is\n",
    "\n",
    "$(9.0 \\pm 1.3) \\times 10^5~M_\\odot$"
   ]
  },
  {
   "cell_type": "markdown",
   "metadata": {},
   "source": [
    "## Estimating CO(2-1) / H$\\alpha$ flux ratios\n"
   ]
  },
  {
   "cell_type": "markdown",
   "metadata": {},
   "source": [
    "## tl;dr\n",
    "\n",
    "**In Box 1**, where we detect CO(2-1) emission, the CO(2-1) flux is\n",
    "\n",
    "$F_\\mathrm{Box1} = \\left(5.5 \\pm 0.6\\right) \\times 10^{-18}$ erg s$^{-1}$ cm$^{-2}$ \n",
    "\n",
    "for a CO(2-1)-H$\\alpha$ flux ratio of $0.006$. \n",
    "\n",
    "\n",
    "**In Box 2**, closer to the core, we don't detect CO(2-1) flux. The $3\\sigma$ upper limit on the CO(2-1) flux is\n",
    "\n",
    "$F_\\mathrm{Box2} < 1.3\\times10^{-18}$ erg s$^{-1}$ cm$^{-2}$ \n",
    "\n",
    "for an upper-limit CO(2-1)-H$\\alpha$ flux ratio of $0.001$. \n",
    "\n",
    "*Note: These flux ratios assume that Becky's F606N flux is pure H$\\alpha$, which isn't the case. We'll correct this once Becky is able to find the spectra*. \n"
   ]
  },
  {
   "cell_type": "markdown",
   "metadata": {},
   "source": [
    "### Details of the calculation"
   ]
  },
  {
   "cell_type": "markdown",
   "metadata": {},
   "source": [
    "In Aurora's Box 1 (i.e., beyond the edge of the lobe, where we see CO flux), \n",
    "```\n",
    "box(12:30:51.676,+12:23:05.29,9\",9\",30)```\n",
    "the emission integral, as measured via CASA by fitting a gaussian to the CO(2-1) line extracted from this box, is"
   ]
  },
  {
   "cell_type": "code",
   "execution_count": 9,
   "metadata": {
    "collapsed": true
   },
   "outputs": [],
   "source": [
    "box1_ei = 5.55222e+08 * u.mJy * u.Hz\n",
    "box1_ei_err = 6.08792e+07 * u.mJy * u.Hz"
   ]
  },
  {
   "cell_type": "code",
   "execution_count": 10,
   "metadata": {
    "collapsed": false
   },
   "outputs": [
    {
     "data": {
      "text/latex": [
       "$5.55222 \\times 10^{-18} \\; \\mathrm{\\frac{erg}{s\\,cm^{2}}}$"
      ],
      "text/plain": [
       "<Quantity 5.55222e-18 erg / (cm2 s)>"
      ]
     },
     "execution_count": 10,
     "metadata": {},
     "output_type": "execute_result"
    }
   ],
   "source": [
    "box1_flux = box1_ei.to(u.erg * u.cm**-2 * u.s**-1, equivalencies=u.spectral)\n",
    "box1_flux"
   ]
  },
  {
   "cell_type": "code",
   "execution_count": 11,
   "metadata": {
    "collapsed": false
   },
   "outputs": [
    {
     "data": {
      "text/latex": [
       "$6.08792 \\times 10^{-19} \\; \\mathrm{\\frac{erg}{s\\,cm^{2}}}$"
      ],
      "text/plain": [
       "<Quantity 6.08792e-19 erg / (cm2 s)>"
      ]
     },
     "execution_count": 11,
     "metadata": {},
     "output_type": "execute_result"
    }
   ],
   "source": [
    "box1_flux_err = box1_ei_err.to(u.erg * u.cm**-2 * u.s**-1, equivalencies=u.spectral)\n",
    "box1_flux_err"
   ]
  },
  {
   "cell_type": "code",
   "execution_count": 12,
   "metadata": {
    "collapsed": true
   },
   "outputs": [],
   "source": [
    "becky_F660N_box1_flux = 8.6e-16 * (u.erg * u.cm**-2 * u.s**-1)"
   ]
  },
  {
   "cell_type": "code",
   "execution_count": 13,
   "metadata": {
    "collapsed": false
   },
   "outputs": [
    {
     "data": {
      "text/latex": [
       "$0.0064560698 \\; \\mathrm{}$"
      ],
      "text/plain": [
       "<Quantity 0.00645606976744186>"
      ]
     },
     "execution_count": 13,
     "metadata": {},
     "output_type": "execute_result"
    }
   ],
   "source": [
    "box1_flux / becky_F660N_box1_flux"
   ]
  },
  {
   "cell_type": "markdown",
   "metadata": {},
   "source": [
    "In Aurora's Box 2 (nearer to M87's core), \n",
    "```\n",
    "box(12:30:51.137,+12:23:09.99,9\",9\",30)```\n",
    "we have a total non-detection. The RMS flux is then \n",
    "$\\sqrt{N} \\sigma \\Delta v$, where $\\sigma$ is the RMS noise per channel, $\\Delta V$ is the channel width (in Hz), and $N$ is the number of channels over which $>3\\sigma$ emission was detected. The $3\\sigma$ upper limit is then just 3 times this number. "
   ]
  },
  {
   "cell_type": "code",
   "execution_count": 14,
   "metadata": {
    "collapsed": true
   },
   "outputs": [],
   "source": [
    "rms = 2.304e-04 * u.Jy"
   ]
  },
  {
   "cell_type": "code",
   "execution_count": 15,
   "metadata": {
    "collapsed": false
   },
   "outputs": [
    {
     "data": {
      "text/latex": [
       "$0.6912 \\; \\mathrm{mJy}$"
      ],
      "text/plain": [
       "<Quantity 0.6912 mJy>"
      ]
     },
     "execution_count": 15,
     "metadata": {},
     "output_type": "execute_result"
    }
   ],
   "source": [
    "rms_mJy = (rms * 3.0).to(u.mJy)\n",
    "rms_mJy"
   ]
  },
  {
   "cell_type": "code",
   "execution_count": 140,
   "metadata": {
    "collapsed": false
   },
   "outputs": [
    {
     "data": {
      "text/latex": [
       "$36791667 \\; \\mathrm{Hz}$"
      ],
      "text/plain": [
       "<Quantity 36791666.666666664 Hz>"
      ]
     },
     "execution_count": 140,
     "metadata": {},
     "output_type": "execute_result"
    }
   ],
   "source": [
    "channel_width = ((2.2992e+11 * u.Hz) - (2.29037e+11 * u.Hz))/24\n",
    "channel_width"
   ]
  },
  {
   "cell_type": "code",
   "execution_count": 141,
   "metadata": {
    "collapsed": true
   },
   "outputs": [],
   "source": [
    "num_channels = 3"
   ]
  },
  {
   "cell_type": "code",
   "execution_count": 142,
   "metadata": {
    "collapsed": false
   },
   "outputs": [],
   "source": [
    "threesig_upperlimit_flux = (3.0 * (np.sqrt(num_channels) * (rms_mJy) * channel_width)).to(u.erg * u.cm**-2 * u.s**-1, equivalencies=u.spectral)"
   ]
  },
  {
   "cell_type": "code",
   "execution_count": 143,
   "metadata": {
    "collapsed": false
   },
   "outputs": [
    {
     "data": {
      "text/latex": [
       "$1.3214023 \\times 10^{-18} \\; \\mathrm{\\frac{erg}{s\\,cm^{2}}}$"
      ],
      "text/plain": [
       "<Quantity 1.3214023457039872e-18 erg / (cm2 s)>"
      ]
     },
     "execution_count": 143,
     "metadata": {},
     "output_type": "execute_result"
    }
   ],
   "source": [
    "threesig_upperlimit_flux\n"
   ]
  },
  {
   "cell_type": "code",
   "execution_count": 144,
   "metadata": {
    "collapsed": true
   },
   "outputs": [],
   "source": [
    "becky_F660N_box2_flux = 1.1e-15 * (u.erg * u.cm**-2 * u.s**-1)"
   ]
  },
  {
   "cell_type": "code",
   "execution_count": 145,
   "metadata": {
    "collapsed": false
   },
   "outputs": [
    {
     "data": {
      "text/latex": [
       "$0.0012012749 \\; \\mathrm{}$"
      ],
      "text/plain": [
       "<Quantity 0.0012012748597308976>"
      ]
     },
     "execution_count": 145,
     "metadata": {},
     "output_type": "execute_result"
    }
   ],
   "source": [
    "threesig_upperlimit_flux / becky_F660N_box2_flux"
   ]
  }
 ],
 "metadata": {
  "anaconda-cloud": {},
  "kernelspec": {
   "display_name": "Python 3",
   "language": "python",
   "name": "python3"
  },
  "language_info": {
   "codemirror_mode": {
    "name": "ipython",
    "version": 3
   },
   "file_extension": ".py",
   "mimetype": "text/x-python",
   "name": "python",
   "nbconvert_exporter": "python",
   "pygments_lexer": "ipython3",
   "version": "3.6.0"
  }
 },
 "nbformat": 4,
 "nbformat_minor": 0
}
